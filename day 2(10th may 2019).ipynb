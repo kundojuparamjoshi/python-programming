{
 "cells": [
  {
   "cell_type": "markdown",
   "metadata": {},
   "source": [
    "# Problem Solving and Programming\n",
    "### Day No-2\n",
    "### Date -10th MAY 2019\n",
    "### Day Objectives\n",
    "* Introduction to recursion\n",
    "* solving recursion problems\n",
    "#### Do this problems\n",
    "* power of a number\n",
    "* factorial\n",
    "* GCD\n",
    "* Tower of Hanoi\n",
    "* binary search\n",
    "* merge sort\n",
    "* quick sort"
   ]
  },
  {
   "cell_type": "markdown",
   "metadata": {},
   "source": [
    "### Factorial Recursion"
   ]
  },
  {
   "cell_type": "code",
   "execution_count": 2,
   "metadata": {},
   "outputs": [
    {
     "data": {
      "text/plain": [
       "8"
      ]
     },
     "execution_count": 2,
     "metadata": {},
     "output_type": "execute_result"
    }
   ],
   "source": [
    "def recursionPower(n,r):\n",
    "    if r==1:\n",
    "        return n\n",
    "    else:\n",
    "        return recursionPower(n,r-1) * n\n",
    "    \n",
    "recursionPower(2,3)"
   ]
  },
  {
   "cell_type": "markdown",
   "metadata": {},
   "source": [
    "###  Factorial Without Recursion\n"
   ]
  },
  {
   "cell_type": "code",
   "execution_count": 3,
   "metadata": {},
   "outputs": [
    {
     "data": {
      "text/plain": [
       "1024"
      ]
     },
     "execution_count": 3,
     "metadata": {},
     "output_type": "execute_result"
    }
   ],
   "source": [
    "def power(n,r):\n",
    "    prod=1\n",
    "    for i in range(1,r+1):\n",
    "        prod=prod*n\n",
    "    return prod\n",
    "power(2,10)"
   ]
  },
  {
   "cell_type": "markdown",
   "metadata": {},
   "source": [
    "###  GCD Recursion"
   ]
  },
  {
   "cell_type": "code",
   "execution_count": 4,
   "metadata": {},
   "outputs": [
    {
     "data": {
      "text/plain": [
       "3"
      ]
     },
     "execution_count": 4,
     "metadata": {},
     "output_type": "execute_result"
    }
   ],
   "source": [
    "def gcdRecursion(a,b):\n",
    "    if a==0 :\n",
    "        return b\n",
    "    elif b==0 :\n",
    "        return a\n",
    "    elif a>b :\n",
    "        return gcdRecursion(a-b,b)\n",
    "    else :\n",
    "        return gcdRecursion(a,b-a)\n",
    "    \n",
    "gcdRecursion(12,39)"
   ]
  },
  {
   "cell_type": "markdown",
   "metadata": {},
   "source": [
    "### GCD Without Recursion(Iteration)"
   ]
  },
  {
   "cell_type": "code",
   "execution_count": 5,
   "metadata": {},
   "outputs": [
    {
     "data": {
      "text/plain": [
       "12"
      ]
     },
     "execution_count": 5,
     "metadata": {},
     "output_type": "execute_result"
    }
   ],
   "source": [
    "def gcdRecursion(a,b):\n",
    "    if a==0:\n",
    "        return b\n",
    "    elif b==0:\n",
    "        return a\n",
    "    while a>b:\n",
    "        a=a-b\n",
    "        b=b\n",
    "        return b\n",
    "    while a<b:\n",
    "        a=a\n",
    "        b=b-a\n",
    "        return a\n",
    "gcdRecursion(12,36)\n",
    "\n",
    "    "
   ]
  },
  {
   "cell_type": "markdown",
   "metadata": {},
   "source": [
    "### Towers of Hannoi"
   ]
  },
  {
   "cell_type": "code",
   "execution_count": 7,
   "metadata": {},
   "outputs": [
    {
     "ename": "IndentationError",
     "evalue": "unindent does not match any outer indentation level (<tokenize>, line 5)",
     "output_type": "error",
     "traceback": [
      "\u001b[1;36m  File \u001b[1;32m\"<tokenize>\"\u001b[1;36m, line \u001b[1;32m5\u001b[0m\n\u001b[1;33m    3 disks  ->move 2 disks from src to temp\u001b[0m\n\u001b[1;37m    ^\u001b[0m\n\u001b[1;31mIndentationError\u001b[0m\u001b[1;31m:\u001b[0m unindent does not match any outer indentation level\n"
     ]
    }
   ],
   "source": [
    "Towers of Hanoi using recursion \n",
    "n disks  ->   move n-1 disks from src to temp\n",
    "               move nth disk from src to dest\n",
    "               move n-1 disks from temp to dest\n",
    " 3 disks  ->move 2 disks from src to temp\n",
    "               move 3rd disk from src to dest\n",
    "               move 2 disks from temp to dest"
   ]
  },
  {
   "cell_type": "code",
   "execution_count": null,
   "metadata": {},
   "outputs": [],
   "source": [
    "def towerOfHanoi(n,src,temp,dest):\n",
    "    if n==1 :\n",
    "        print('move',n,'disk from',src,'to',dest)\n",
    "        return \n",
    "    else:\n",
    "        towerOfHanoi(n-1,src,dest,temp)\n",
    "        print('move',n,'disk from',src,'to',dest)\n",
    "        towerOfHanoi(n-1,temp,src,dest)\n",
    "        return\n",
    "towerOfHanoi(3,'A','B','C')"
   ]
  },
  {
   "cell_type": "markdown",
   "metadata": {},
   "source": [
    "###  Fibonacci Num"
   ]
  },
  {
   "cell_type": "code",
   "execution_count": 12,
   "metadata": {},
   "outputs": [
    {
     "name": "stdout",
     "output_type": "stream",
     "text": [
      "0\n",
      "1\n",
      "1\n",
      "2\n",
      "3\n"
     ]
    }
   ],
   "source": [
    "def fibonacci(n):\n",
    "    f=0\n",
    "    s=1\n",
    "    print(f)\n",
    "    print( s)\n",
    "    while(f+s<n):\n",
    "        t=f+s\n",
    "        print(t)\n",
    "        f=s\n",
    "        s=t\n",
    "        \n",
    "    \n",
    "\n",
    "fibonacci(5)\n",
    "    \n",
    " "
   ]
  },
  {
   "cell_type": "markdown",
   "metadata": {},
   "source": [
    "### Define a function to find num of times a sub string found in given string"
   ]
  },
  {
   "cell_type": "code",
   "execution_count": 14,
   "metadata": {},
   "outputs": [
    {
     "ename": "SyntaxError",
     "evalue": "unexpected EOF while parsing (<ipython-input-14-8a5f01698ea9>, line 3)",
     "output_type": "error",
     "traceback": [
      "\u001b[1;36m  File \u001b[1;32m\"<ipython-input-14-8a5f01698ea9>\"\u001b[1;36m, line \u001b[1;32m3\u001b[0m\n\u001b[1;33m    for i in len[n-1]!='\\0':\u001b[0m\n\u001b[1;37m                            ^\u001b[0m\n\u001b[1;31mSyntaxError\u001b[0m\u001b[1;31m:\u001b[0m unexpected EOF while parsing\n"
     ]
    }
   ],
   "source": [
    "def substring(str,substr):\n",
    "    i=0\n",
    "    for i in len[n-1]!='\\0':"
   ]
  },
  {
   "cell_type": "code",
   "execution_count": null,
   "metadata": {},
   "outputs": [],
   "source": []
  }
 ],
 "metadata": {
  "kernelspec": {
   "display_name": "Python 3",
   "language": "python",
   "name": "python3"
  },
  "language_info": {
   "codemirror_mode": {
    "name": "ipython",
    "version": 3
   },
   "file_extension": ".py",
   "mimetype": "text/x-python",
   "name": "python",
   "nbconvert_exporter": "python",
   "pygments_lexer": "ipython3",
   "version": "3.7.3"
  }
 },
 "nbformat": 4,
 "nbformat_minor": 2
}
