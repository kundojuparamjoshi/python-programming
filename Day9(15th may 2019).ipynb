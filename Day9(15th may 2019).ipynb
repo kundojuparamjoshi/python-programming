{
 "cells": [
  {
   "cell_type": "markdown",
   "metadata": {},
   "source": [
    "##Day Objectives\n",
    "* python packages and modules\n",
    "* regular expressions\n",
    "* iterators and generators\n",
    "* functional programming\n",
    "* external libraries\n",
    "* file handling / data processing"
   ]
  },
  {
   "cell_type": "markdown",
   "metadata": {},
   "source": [
    "## Python Packages and Modules"
   ]
  },
  {
   "cell_type": "markdown",
   "metadata": {},
   "source": [
    "#### Package: def--collection of python scipts(.py)\n",
    "#### Note:To create packages--jupter->file->new->text file->rename->filename.py(like this create 2/more python scripts)\n",
    "#### Module:A python scripts\n",
    "    "
   ]
  },
  {
   "cell_type": "code",
   "execution_count": 11,
   "metadata": {},
   "outputs": [
    {
     "data": {
      "text/plain": [
       "720"
      ]
     },
     "execution_count": 11,
     "metadata": {},
     "output_type": "execute_result"
    }
   ],
   "source": [
    "from pythonscripts.test123 import factorial \n",
    "\n",
    "factorial(6)"
   ]
  },
  {
   "cell_type": "code",
   "execution_count": 10,
   "metadata": {},
   "outputs": [
    {
     "data": {
      "text/plain": [
       "123"
      ]
     },
     "execution_count": 10,
     "metadata": {},
     "output_type": "execute_result"
    }
   ],
   "source": [
    "\n",
    "\n",
    "import math\n",
    "\n",
    "\n",
    "math.floor(123.999)"
   ]
  },
  {
   "cell_type": "code",
   "execution_count": 5,
   "metadata": {},
   "outputs": [
    {
     "data": {
      "text/plain": [
       "123"
      ]
     },
     "execution_count": 5,
     "metadata": {},
     "output_type": "execute_result"
    }
   ],
   "source": [
    "import math\n",
    "math.floor(123.99)"
   ]
  },
  {
   "cell_type": "markdown",
   "metadata": {},
   "source": [
    "### Regular Expressions:Set of all possible values that satisfy the given pattern"
   ]
  },
  {
   "cell_type": "markdown",
   "metadata": {},
   "source": [
    "*  0123456789-->[0-9]\n",
    "                [a-z]\n",
    "                [A-Z]"
   ]
  },
  {
   "cell_type": "code",
   "execution_count": 8,
   "metadata": {},
   "outputs": [
    {
     "name": "stdout",
     "output_type": "stream",
     "text": [
      "-9\n"
     ]
    }
   ],
   "source": [
    "for i in [0 - 9]:\n",
    "    print(i)"
   ]
  },
  {
   "cell_type": "markdown",
   "metadata": {},
   "source": [
    "### To display string starts with s and followed by other char(s*)"
   ]
  },
  {
   "cell_type": "markdown",
   "metadata": {},
   "source": [
    "* ^a...s$  ---> starts with a snd has 5 char ends with s\n"
   ]
  },
  {
   "cell_type": "code",
   "execution_count": 18,
   "metadata": {},
   "outputs": [
    {
     "data": {
      "text/plain": [
       "list_iterator"
      ]
     },
     "execution_count": 18,
     "metadata": {},
     "output_type": "execute_result"
    }
   ],
   "source": [
    "iterable=iter([1,2,3])\n",
    "type(iterable)  ## to display type of the  data"
   ]
  },
  {
   "cell_type": "code",
   "execution_count": 17,
   "metadata": {},
   "outputs": [
    {
     "name": "stdout",
     "output_type": "stream",
     "text": [
      "Match\n"
     ]
    }
   ],
   "source": [
    "import re\n",
    "pattern = '^g....'  ## starts with g and has 5 char's\n",
    "domain = 'gmail'\n",
    "if re.match(pattern,domain):\n",
    "    print('Match')\n",
    "else:\n",
    "    print('does not match')"
   ]
  },
  {
   "cell_type": "markdown",
   "metadata": {},
   "source": [
    "## Email Validation with some rules"
   ]
  },
  {
   "cell_type": "code",
   "execution_count": 20,
   "metadata": {},
   "outputs": [
    {
     "name": "stdout",
     "output_type": "stream",
     "text": [
      "match\n"
     ]
    }
   ],
   "source": [
    "import re\n",
    "pattern ='^[a-z]$'\n",
    "domain ='z'\n",
    "if re.match(pattern,domain):\n",
    "    print('match')\n",
    "else:\n",
    "    print('no match')"
   ]
  },
  {
   "cell_type": "markdown",
   "metadata": {},
   "source": [
    "### Email Validation with char has atleast 2 chars\n"
   ]
  },
  {
   "cell_type": "code",
   "execution_count": 22,
   "metadata": {},
   "outputs": [
    {
     "name": "stdout",
     "output_type": "stream",
     "text": [
      "match\n"
     ]
    }
   ],
   "source": [
    "import re\n",
    "pattern ='^[a-z]{2}'\n",
    "domain ='zzzzzz'\n",
    "if re.match(pattern,domain):\n",
    "    print('match')\n",
    "else:\n",
    "    print('no match')"
   ]
  },
  {
   "cell_type": "code",
   "execution_count": 24,
   "metadata": {},
   "outputs": [
    {
     "name": "stdout",
     "output_type": "stream",
     "text": [
      "match\n"
     ]
    }
   ],
   "source": [
    "import re\n",
    "pattern ='^[a-z]{3,9}$'\n",
    "domain ='gmail'\n",
    "if re.match(pattern,domain):\n",
    "    print('match')\n",
    "else:\n",
    "    print('no match')"
   ]
  },
  {
   "cell_type": "code",
   "execution_count": 25,
   "metadata": {},
   "outputs": [
    {
     "name": "stdout",
     "output_type": "stream",
     "text": [
      "match\n"
     ]
    }
   ],
   "source": [
    "import re\n",
    "pattern ='^[a-z]{3,9}$'\n",
    "domain ='gmailgmai'\n",
    "if re.match(pattern,domain):\n",
    "    print('match')\n",
    "else:\n",
    "    print('no match')"
   ]
  },
  {
   "cell_type": "code",
   "execution_count": 27,
   "metadata": {},
   "outputs": [
    {
     "name": "stdout",
     "output_type": "stream",
     "text": [
      "no match\n"
     ]
    }
   ],
   "source": [
    "import re\n",
    "pattern ='^[a-z]{3,9}$'\n",
    "domain ='gmailgmail'    ## taken more than 9 chars\n",
    "\n",
    "if re.match(pattern,domain):\n",
    "    print('match')\n",
    "else:\n",
    "    print('no match')"
   ]
  },
  {
   "cell_type": "code",
   "execution_count": 30,
   "metadata": {},
   "outputs": [
    {
     "name": "stdout",
     "output_type": "stream",
     "text": [
      "no match\n"
     ]
    }
   ],
   "source": [
    "import re\n",
    "pattern ='^[a-z]{3,9}$'\n",
    "domain ='g '      ## here taken 2nd char as space so no match\n",
    "if re.match(pattern,domain):\n",
    "    print('match')\n",
    "else:\n",
    "    print('no match')"
   ]
  },
  {
   "cell_type": "markdown",
   "metadata": {},
   "source": [
    "## * in google chech--->regular expression tester---->Reglex Pal"
   ]
  },
  {
   "cell_type": "markdown",
   "metadata": {},
   "source": [
    "## To validate phone num"
   ]
  },
  {
   "cell_type": "code",
   "execution_count": 73,
   "metadata": {},
   "outputs": [
    {
     "name": "stdout",
     "output_type": "stream",
     "text": [
      "match\n"
     ]
    }
   ],
   "source": [
    "import re\n",
    "pattern ='^[6-9][0-9]{9}$'   ## $ used for ending with 9 char if no ending\n",
    "domain ='9160678954'      \n",
    "if re.match(pattern,domain):\n",
    "    print('match')\n",
    "else:\n",
    "    print('no match')"
   ]
  },
  {
   "cell_type": "code",
   "execution_count": 76,
   "metadata": {},
   "outputs": [
    {
     "name": "stdout",
     "output_type": "stream",
     "text": [
      "no match\n"
     ]
    }
   ],
   "source": [
    "import re\n",
    "pattern ='^[6-9][0-9]{9}$'   ## $ used for ending with 9 char if no ending\n",
    "domain ='5160678954'      \n",
    "if re.match(pattern,domain):\n",
    "    print('match')\n",
    "else:\n",
    "    print('no match')"
   ]
  },
  {
   "cell_type": "code",
   "execution_count": 75,
   "metadata": {},
   "outputs": [
    {
     "name": "stdout",
     "output_type": "stream",
     "text": [
      "no match\n"
     ]
    }
   ],
   "source": [
    "import re\n",
    "pattern ='^[6-9][0-9]{9}$'   ## $ used for ending with 9 char if no ending\n",
    "domain ='9160678954120'      \n",
    "if re.match(pattern,domain):\n",
    "    print('match')\n",
    "else:\n",
    "    print('no match')"
   ]
  },
  {
   "cell_type": "code",
   "execution_count": 78,
   "metadata": {},
   "outputs": [
    {
     "name": "stdout",
     "output_type": "stream",
     "text": [
      "match\n"
     ]
    }
   ],
   "source": [
    "import re\n",
    "pattern ='^[+][9][1][6-9][0-9]{9}$'   ## $ used for ending with 9 char if no ending\n",
    "domain ='+919160678954'      \n",
    "if re.match(pattern,domain):\n",
    "    print('match')\n",
    "else:\n",
    "    print('no match')"
   ]
  },
  {
   "cell_type": "code",
   "execution_count": 80,
   "metadata": {},
   "outputs": [
    {
     "name": "stdout",
     "output_type": "stream",
     "text": [
      "no match\n"
     ]
    }
   ],
   "source": [
    "import re\n",
    "pattern ='^[+][9][1][6-9][0-9]{9}$'   ## $ used for ending with 9 char if no ending\n",
    "domain ='+019160678954'      \n",
    "if re.match(pattern,domain):\n",
    "    print('match')\n",
    "else:\n",
    "    print('no match')"
   ]
  },
  {
   "cell_type": "markdown",
   "metadata": {},
   "source": [
    "\n",
    "### To validate postal code\n",
    "* 500001,203456-->true\n",
    "* 012345-->false"
   ]
  },
  {
   "cell_type": "code",
   "execution_count": 69,
   "metadata": {},
   "outputs": [
    {
     "name": "stdout",
     "output_type": "stream",
     "text": [
      "no match\n"
     ]
    }
   ],
   "source": [
    "import re\n",
    "pattern ='^[1-9][0-9]{5}$'\n",
    "code ='500001'      \n",
    "if re.match(pattern,code):\n",
    "    print('match')\n",
    "else:\n",
    "    print('no match')"
   ]
  },
  {
   "cell_type": "markdown",
   "metadata": {},
   "source": []
  },
  {
   "cell_type": "code",
   "execution_count": 72,
   "metadata": {},
   "outputs": [
    {
     "name": "stdout",
     "output_type": "stream",
     "text": [
      "no match\n"
     ]
    }
   ],
   "source": [
    "import re\n",
    "pattern ='^[1-9][0-9]{5}$'\n",
    "code ='000001'      \n",
    "if re.match(pattern,code):\n",
    "    print('match')\n",
    "else:\n",
    "    print('no match')"
   ]
  },
  {
   "cell_type": "markdown",
   "metadata": {},
   "source": [
    "### Email validation"
   ]
  },
  {
   "cell_type": "code",
   "execution_count": 87,
   "metadata": {},
   "outputs": [
    {
     "name": "stdout",
     "output_type": "stream",
     "text": [
      "match\n"
     ]
    }
   ],
   "source": [
    "import re\n",
    "pattern ='^[a-z][a-z0-9_-]{4,13}[a-z0-9]@[a-z0-9]{3,9}[.][a-z]{2,3}$'\n",
    "code ='python-_123wert@gmail.com'      \n",
    "if re.match(pattern,code):\n",
    "    print('match')\n",
    "else:\n",
    "    print('no match')"
   ]
  },
  {
   "cell_type": "code",
   "execution_count": 88,
   "metadata": {},
   "outputs": [
    {
     "name": "stdout",
     "output_type": "stream",
     "text": [
      "no match\n"
     ]
    }
   ],
   "source": [
    "import re\n",
    "pattern ='^[a-z][a-z0-9_-]{4,13}[a-z0-9]@[a-z0-9]{3,9}[.][a-z]{2,3}$'\n",
    "code ='python-_123wertertgwfdv@gmail.com'      \n",
    "if re.match(pattern,code):\n",
    "    print('match')\n",
    "else:\n",
    "    print('no match')"
   ]
  },
  {
   "cell_type": "code",
   "execution_count": null,
   "metadata": {},
   "outputs": [],
   "source": []
  },
  {
   "cell_type": "markdown",
   "metadata": {},
   "source": [
    "### Password Validation"
   ]
  },
  {
   "cell_type": "markdown",
   "metadata": {},
   "source": [
    "* should contain atleast one uppercase\n",
    "* length in th range(6,21)\n",
    "* should contain atleast one special char\n",
    "* should start with uppercase or lowercase\n",
    "* should contain atleast one digit"
   ]
  },
  {
   "cell_type": "code",
   "execution_count": null,
   "metadata": {},
   "outputs": [],
   "source": []
  }
 ],
 "metadata": {
  "kernelspec": {
   "display_name": "Python 3",
   "language": "python",
   "name": "python3"
  },
  "language_info": {
   "codemirror_mode": {
    "name": "ipython",
    "version": 3
   },
   "file_extension": ".py",
   "mimetype": "text/x-python",
   "name": "python",
   "nbconvert_exporter": "python",
   "pygments_lexer": "ipython3",
   "version": "3.7.3"
  }
 },
 "nbformat": 4,
 "nbformat_minor": 2
}
