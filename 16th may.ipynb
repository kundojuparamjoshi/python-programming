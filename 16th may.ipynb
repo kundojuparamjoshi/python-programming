{
 "cells": [
  {
   "cell_type": "markdown",
   "metadata": {},
   "source": [
    "## Day Objectives\n",
    "### 1)File Handling /Data Processing\n",
    "### 2)External Libraries\n",
    "### 3)Functional Programming"
   ]
  },
  {
   "cell_type": "code",
   "execution_count": null,
   "metadata": {},
   "outputs": [],
   "source": []
  },
  {
   "cell_type": "markdown",
   "metadata": {},
   "source": [
    "#### File Handling /Data Processing for single line"
   ]
  },
  {
   "cell_type": "code",
   "execution_count": null,
   "metadata": {},
   "outputs": [],
   "source": [
    "def readFileData(filename):\n",
    "    f=open(filename,'r')\n",
    "    filedata=f.readline()\n",
    "    f.close()\n",
    "    return filedata\n",
    "readFileData('DataFiles/data.txt')         ##DataFiles/data.txt should be there where 16th may python jupter is there"
   ]
  },
  {
   "cell_type": "code",
   "execution_count": null,
   "metadata": {},
   "outputs": [],
   "source": []
  },
  {
   "cell_type": "markdown",
   "metadata": {},
   "source": [
    "#### File Handling /Data Processing for 2 line"
   ]
  },
  {
   "cell_type": "code",
   "execution_count": null,
   "metadata": {},
   "outputs": [],
   "source": [
    "def readFileData(filename):\n",
    "    f=open(filename,'r')\n",
    "    filedata=f.readline()\n",
    "    filedata+=f.readline()\n",
    "    f.close()\n",
    "    return filedata\n",
    "readFileData('DataFiles/data.txt') "
   ]
  },
  {
   "cell_type": "code",
   "execution_count": null,
   "metadata": {},
   "outputs": [],
   "source": []
  },
  {
   "cell_type": "markdown",
   "metadata": {},
   "source": [
    "#### File Handling /Data Processing for all lines"
   ]
  },
  {
   "cell_type": "code",
   "execution_count": null,
   "metadata": {},
   "outputs": [],
   "source": [
    "def readFileData(filename):\n",
    "    f=open(filename,'r')\n",
    "    filedata=f.read()\n",
    "    f.close()\n",
    "    return filedata\n",
    "readFileData('DataFiles/data.txt') "
   ]
  },
  {
   "cell_type": "code",
   "execution_count": null,
   "metadata": {},
   "outputs": [],
   "source": []
  },
  {
   "cell_type": "markdown",
   "metadata": {},
   "source": [
    "#### File Handling /Data Processing for all lines without using file close"
   ]
  },
  {
   "cell_type": "code",
   "execution_count": null,
   "metadata": {},
   "outputs": [],
   "source": [
    "def readFileData(filename):\n",
    "    with open(filename,'r') as f:\n",
    "        filedata=f.read()                       ### always better to use 'with'.it will take care of file closing\n",
    "        \n",
    "    \n",
    "    return filedata\n",
    "readFileData('DataFiles/data.txt') "
   ]
  },
  {
   "cell_type": "code",
   "execution_count": null,
   "metadata": {},
   "outputs": [],
   "source": []
  },
  {
   "cell_type": "markdown",
   "metadata": {},
   "source": [
    "#### File Handling /Data Processing for all lines NOT to print '\\n'"
   ]
  },
  {
   "cell_type": "code",
   "execution_count": null,
   "metadata": {},
   "outputs": [],
   "source": [
    "def readFileData(filename):\n",
    "    with open(filename,'r') as f:\n",
    "        for line in f:\n",
    "            print(line,end='')        #### print fx. willnot print  \\n it understands and print data\n",
    "    \n",
    "    \n",
    "    return \n",
    "readFileData('DataFiles/data.txt') "
   ]
  },
  {
   "cell_type": "code",
   "execution_count": null,
   "metadata": {},
   "outputs": [],
   "source": []
  },
  {
   "cell_type": "code",
   "execution_count": null,
   "metadata": {},
   "outputs": [],
   "source": [
    "def readFileData(filename):\n",
    "    with open(filename,'r') as f:\n",
    "        print(f.read())                    ### no need to use for loop\n",
    "       \n",
    "    \n",
    "    return \n",
    "readFileData('DataFiles/data.txt') "
   ]
  },
  {
   "cell_type": "code",
   "execution_count": null,
   "metadata": {},
   "outputs": [],
   "source": []
  },
  {
   "cell_type": "markdown",
   "metadata": {},
   "source": [
    "### Files 'write' mode"
   ]
  },
  {
   "cell_type": "code",
   "execution_count": null,
   "metadata": {},
   "outputs": [],
   "source": [
    "def readFileData(filename):\n",
    "    with open(filename,'r') as f:\n",
    "        print(f.read())\n",
    "       \n",
    "    \n",
    "    return \n",
    "\n",
    "def writeIntoFile(filename,data):\n",
    "    with open(filename,'w') as f:\n",
    "        f.write(data)\n",
    "    return\n",
    "\n",
    "writeIntoFile('DataFiles/filewrite.txt','data written inti filewrite')    ### automatically filewrire.txt created\n",
    "readFileData('DataFiles/filewrite.txt') "
   ]
  },
  {
   "cell_type": "code",
   "execution_count": null,
   "metadata": {},
   "outputs": [],
   "source": []
  },
  {
   "cell_type": "markdown",
   "metadata": {},
   "source": [
    "### Files 'append' mode"
   ]
  },
  {
   "cell_type": "code",
   "execution_count": null,
   "metadata": {},
   "outputs": [],
   "source": [
    "def writeIntoFile(filename,data,mode):\n",
    "    with open(filename,mode) as f:\n",
    "        f.write(data)\n",
    "    return\n",
    "\n",
    "writeIntoFile('DataFiles/filewrite.txt','second line','a')      ### mode 'a' used for appending  with already existed data\n",
    "readFileData('DataFiles/filewrite.txt')                         ### mode 'w' used for overwriting the previous data"
   ]
  },
  {
   "cell_type": "code",
   "execution_count": null,
   "metadata": {},
   "outputs": [],
   "source": []
  },
  {
   "cell_type": "code",
   "execution_count": null,
   "metadata": {},
   "outputs": [],
   "source": [
    "def writeIntoFile(filename,data,mode):\n",
    "    with open(filename,mode) as f:\n",
    "        f.write(data)\n",
    "    return\n",
    "\n",
    "writeIntoFile('DataFiles/filewrite.txt','first line','w')      ### mode 'a' used for appending  with already existed data\n",
    "readFileData('DataFiles/filewrite.txt')"
   ]
  },
  {
   "cell_type": "code",
   "execution_count": null,
   "metadata": {},
   "outputs": [],
   "source": []
  },
  {
   "cell_type": "markdown",
   "metadata": {},
   "source": [
    "### Problem 2\n",
    "#### problem Statement\n",
    " Define a function to generate a marks data file for 1300 students \n",
    " such that each mark is entered in a new line.\n",
    " Marks range from 0 to 100(inclusive as random numbers)\n",
    " #### Constraints\n",
    " #### Test Cases\n",
    " * Test Case1\n",
    " * Test Case2\n",
    " * Test Case3 "
   ]
  },
  {
   "cell_type": "code",
   "execution_count": null,
   "metadata": {},
   "outputs": [],
   "source": [
    "import random\n",
    "def marksFile(n,filename):\n",
    "    with open(filename,'w') as marksfile:     ### for write  no need to use mode in fx.\n",
    "        for i in range(0,n):\n",
    "            marks=random.randint(0,101)\n",
    "            marksfile.write(str(marks)+'\\n')      ### to a new line use '\\n'\n",
    "        return           \n",
    "    \n",
    "marksFile(1300,'marksData.txt')       \n",
    "        \n",
    "   \n",
    "        \n",
    "    \n"
   ]
  },
  {
   "cell_type": "code",
   "execution_count": null,
   "metadata": {},
   "outputs": [],
   "source": []
  },
  {
   "cell_type": "markdown",
   "metadata": {},
   "source": [
    "## Problem 3\n",
    "#### problem Statement\n",
    " Generate a report on the marks data with the following indicators\n",
    " * Highest Indicator\n",
    " * Lowest Indicator\n",
    " * Average Indicator\n",
    " * No. of students with distinction(>80)\n",
    " * No. of students with first class(>70)\n",
    " * No. of students with second class(>50)\n",
    " * No. of students with third class(>40)\n",
    " * No. of students failed\n",
    " \n",
    " #### Constraints\n",
    " #### Test Cases\n",
    " * Test Case1\n",
    " * Test Case2\n",
    " * Test Case3"
   ]
  },
  {
   "cell_type": "code",
   "execution_count": 27,
   "metadata": {},
   "outputs": [
    {
     "name": "stdout",
     "output_type": "stream",
     "text": [
      "99\n"
     ]
    }
   ],
   "source": [
    "def largest(filename): \n",
    "    max='0'\n",
    "    with open(filename,'r') as marksfile:     ### for write  no need to use mode in fx.\n",
    "        record=marksfile.read()\n",
    "        data=record.split(\"\\n\")\n",
    "        #print(data, end='')\n",
    "        for i in data:\n",
    "            if i>max:\n",
    "                max=i\n",
    "        print(max)       \n",
    "        \n",
    "largest('marksData.txt')\n",
    "  "
   ]
  },
  {
   "cell_type": "code",
   "execution_count": 26,
   "metadata": {},
   "outputs": [
    {
     "ename": "IndentationError",
     "evalue": "unindent does not match any outer indentation level (<tokenize>, line 10)",
     "output_type": "error",
     "traceback": [
      "\u001b[1;36m  File \u001b[1;32m\"<tokenize>\"\u001b[1;36m, line \u001b[1;32m10\u001b[0m\n\u001b[1;33m    i=0\u001b[0m\n\u001b[1;37m    ^\u001b[0m\n\u001b[1;31mIndentationError\u001b[0m\u001b[1;31m:\u001b[0m unindent does not match any outer indentation level\n"
     ]
    }
   ],
   "source": [
    " data=record.strip(\"\\n\").split(\",\")\n",
    "x=int(data[0])\n",
    "        for i in range(1,len(data)-1):\n",
    "            x=int(data[i])\n",
    "        return x\n",
    "         \n",
    "s1=s1+[max]\n",
    "            record=marksfile.readline()\n",
    "            \n",
    "    i=0\n",
    "    max=s1\n",
    "        \n",
    "       \n",
    "         \n",
    "    for i in range(1,len(data)-1):\n",
    "        if int(data[i])>max:\n",
    "            max=int(data[i])\n",
    "    return max\n"
   ]
  },
  {
   "cell_type": "code",
   "execution_count": null,
   "metadata": {},
   "outputs": [],
   "source": []
  },
  {
   "cell_type": "markdown",
   "metadata": {},
   "source": [
    "### To view list data and map"
   ]
  },
  {
   "cell_type": "code",
   "execution_count": 31,
   "metadata": {},
   "outputs": [
    {
     "data": {
      "text/plain": [
       "'1'"
      ]
     },
     "execution_count": 31,
     "metadata": {},
     "output_type": "execute_result"
    }
   ],
   "source": [
    "li=[1,2,3,4,5]\n",
    "#s=str[i]              ##This gives o/p ----->'[' i.e taking open flower brace as list\n",
    "s=list(map(str,li))   ##map fx. has 2 parameters -->1st parameter is fx. element,\n",
    "s[0]                                        ##     -->2nd parameter  is list of elements"
   ]
  },
  {
   "cell_type": "code",
   "execution_count": null,
   "metadata": {},
   "outputs": [],
   "source": []
  },
  {
   "cell_type": "markdown",
   "metadata": {},
   "source": [
    "### To remove iteration and to add functional element"
   ]
  },
  {
   "cell_type": "code",
   "execution_count": 33,
   "metadata": {},
   "outputs": [
    {
     "data": {
      "text/plain": [
       "36"
      ]
     },
     "execution_count": 33,
     "metadata": {},
     "output_type": "execute_result"
    }
   ],
   "source": [
    "def square(n):\n",
    "    return n*n\n",
    "li=[1,2,3,4,5,6]\n",
    "s=list(map(square,li))\n",
    "s[5]                "
   ]
  },
  {
   "cell_type": "code",
   "execution_count": null,
   "metadata": {},
   "outputs": [],
   "source": []
  },
  {
   "cell_type": "markdown",
   "metadata": {},
   "source": [
    "### To print list of elements using map"
   ]
  },
  {
   "cell_type": "code",
   "execution_count": 34,
   "metadata": {},
   "outputs": [
    {
     "data": {
      "text/plain": [
       "[1, 4, 9, 16, 25, 36]"
      ]
     },
     "execution_count": 34,
     "metadata": {},
     "output_type": "execute_result"
    }
   ],
   "source": [
    "def square(n):\n",
    "    return n*n\n",
    "li=[1,2,3,4,5,6]\n",
    "s=list(map(square,li))\n",
    "s  "
   ]
  },
  {
   "cell_type": "code",
   "execution_count": null,
   "metadata": {},
   "outputs": [],
   "source": []
  },
  {
   "cell_type": "markdown",
   "metadata": {},
   "source": [
    "### To print list of elements using list"
   ]
  },
  {
   "cell_type": "code",
   "execution_count": 35,
   "metadata": {},
   "outputs": [
    {
     "data": {
      "text/plain": [
       "[1.0, 4.0, 9.0, 16.0, 25.0, 36.0]"
      ]
     },
     "execution_count": 35,
     "metadata": {},
     "output_type": "execute_result"
    }
   ],
   "source": [
    "def square(n):\n",
    "    return n*n\n",
    "li=[1,2,3,4,5,6]\n",
    "s=list(map(square,li))\n",
    "s=[float(i) for i in s]\n",
    "s"
   ]
  },
  {
   "cell_type": "code",
   "execution_count": null,
   "metadata": {},
   "outputs": [],
   "source": []
  },
  {
   "cell_type": "markdown",
   "metadata": {},
   "source": [
    "### To print list of elements using list along with time taken to reduce"
   ]
  },
  {
   "cell_type": "code",
   "execution_count": 37,
   "metadata": {},
   "outputs": [
    {
     "name": "stdout",
     "output_type": "stream",
     "text": [
      "0.0001656180002100882\n"
     ]
    },
    {
     "data": {
      "text/plain": [
       "[1.0, 4.0, 9.0, 16.0, 25.0, 36.0]"
      ]
     },
     "execution_count": 37,
     "metadata": {},
     "output_type": "execute_result"
    }
   ],
   "source": [
    "import timeit\n",
    "def square(n):\n",
    "    return n*n\n",
    "st=timeit.default_timer()\n",
    "li=[1,2,3,4,5,6]\n",
    "s=list(map(square,li))\n",
    "s=[float(i) for i in s]\n",
    "print(timeit.default_timer()-st)\n",
    "s"
   ]
  },
  {
   "cell_type": "code",
   "execution_count": null,
   "metadata": {},
   "outputs": [],
   "source": []
  },
  {
   "cell_type": "code",
   "execution_count": null,
   "metadata": {},
   "outputs": [],
   "source": []
  },
  {
   "cell_type": "code",
   "execution_count": null,
   "metadata": {},
   "outputs": [],
   "source": []
  },
  {
   "cell_type": "markdown",
   "metadata": {},
   "source": [
    "### Note:so here we reduced the iteration process for printing  list of elements"
   ]
  },
  {
   "cell_type": "code",
   "execution_count": 47,
   "metadata": {},
   "outputs": [
    {
     "ename": "NameError",
     "evalue": "name 'readFileData' is not defined",
     "output_type": "error",
     "traceback": [
      "\u001b[1;31m---------------------------------------------------------------------------\u001b[0m",
      "\u001b[1;31mNameError\u001b[0m                                 Traceback (most recent call last)",
      "\u001b[1;32m<ipython-input-47-63d34e2da7f5>\u001b[0m in \u001b[0;36m<module>\u001b[1;34m\u001b[0m\n\u001b[0;32m     12\u001b[0m     \u001b[1;32mreturn\u001b[0m \u001b[0mtimeit\u001b[0m\u001b[1;33m.\u001b[0m\u001b[0mdefault_timer\u001b[0m\u001b[1;33m(\u001b[0m\u001b[1;33m)\u001b[0m\u001b[1;33m-\u001b[0m\u001b[0mstart\u001b[0m\u001b[1;33m\u001b[0m\u001b[1;33m\u001b[0m\u001b[0m\n\u001b[0;32m     13\u001b[0m \u001b[1;33m\u001b[0m\u001b[0m\n\u001b[1;32m---> 14\u001b[1;33m \u001b[0mmarksdata\u001b[0m\u001b[1;33m=\u001b[0m\u001b[0mgenerateMarksReport\u001b[0m\u001b[1;33m(\u001b[0m\u001b[1;34m'marksData.txt'\u001b[0m\u001b[1;33m)\u001b[0m\u001b[1;33m\u001b[0m\u001b[1;33m\u001b[0m\u001b[0m\n\u001b[0m\u001b[0;32m     15\u001b[0m \u001b[1;33m\u001b[0m\u001b[0m\n\u001b[0;32m     16\u001b[0m \u001b[1;32mdef\u001b[0m \u001b[0mdistinction\u001b[0m\u001b[1;33m(\u001b[0m\u001b[0mmark\u001b[0m\u001b[1;33m)\u001b[0m\u001b[1;33m:\u001b[0m\u001b[1;33m\u001b[0m\u001b[1;33m\u001b[0m\u001b[0m\n",
      "\u001b[1;32m<ipython-input-47-63d34e2da7f5>\u001b[0m in \u001b[0;36mgenerateMarksReport\u001b[1;34m(marksfile)\u001b[0m\n\u001b[0;32m      2\u001b[0m \u001b[1;32mdef\u001b[0m \u001b[0mgenerateMarksReport\u001b[0m\u001b[1;33m(\u001b[0m\u001b[0mmarksfile\u001b[0m\u001b[1;33m)\u001b[0m\u001b[1;33m:\u001b[0m\u001b[1;33m\u001b[0m\u001b[1;33m\u001b[0m\u001b[0m\n\u001b[0;32m      3\u001b[0m     \u001b[0mstart\u001b[0m\u001b[1;33m=\u001b[0m\u001b[0mtimeit\u001b[0m\u001b[1;33m.\u001b[0m\u001b[0mdefault_timer\u001b[0m\u001b[1;33m(\u001b[0m\u001b[1;33m)\u001b[0m\u001b[1;33m\u001b[0m\u001b[1;33m\u001b[0m\u001b[0m\n\u001b[1;32m----> 4\u001b[1;33m     \u001b[0mmarksdata\u001b[0m\u001b[1;33m=\u001b[0m\u001b[0mreadFileData\u001b[0m\u001b[1;33m(\u001b[0m\u001b[0mmarksfile\u001b[0m\u001b[1;33m)\u001b[0m\u001b[1;33m\u001b[0m\u001b[1;33m\u001b[0m\u001b[0m\n\u001b[0m\u001b[0;32m      5\u001b[0m     \u001b[1;31m# print(marksdata[2])\u001b[0m\u001b[1;33m\u001b[0m\u001b[1;33m\u001b[0m\u001b[1;33m\u001b[0m\u001b[0m\n\u001b[0;32m      6\u001b[0m     \u001b[0mmarksdata\u001b[0m\u001b[1;33m=\u001b[0m\u001b[0mre\u001b[0m\u001b[1;33m.\u001b[0m\u001b[0msplit\u001b[0m\u001b[1;33m(\u001b[0m\u001b[1;34mr'\\n'\u001b[0m\u001b[1;33m,\u001b[0m\u001b[0mmarksdata\u001b[0m\u001b[1;33m)\u001b[0m\u001b[1;33m\u001b[0m\u001b[1;33m\u001b[0m\u001b[0m\n",
      "\u001b[1;31mNameError\u001b[0m: name 'readFileData' is not defined"
     ]
    }
   ],
   "source": [
    "import re,timeit\n",
    "def generateMarksReport(marksfile):\n",
    "    start=timeit.default_timer()\n",
    "    marksdata=readFileData(marksfile)\n",
    "    # print(marksdata[2])\n",
    "    marksdata=re.split(r'\\n',marksdata)\n",
    "    marksdata=list(map(int,marksdata[:len(marksdata)-1]))\n",
    "    # print(marksdata[len(marksdata)-2])\n",
    "    # print(type(marksdata[0]))\n",
    "    # print(list(map(sum,marksdata)))\n",
    "    print(max(marksdata))\n",
    "    return timeit.default_timer()-start\n",
    "\n",
    "marksdata=generateMarksReport('marksData.txt')\n",
    "\n",
    "def distinction(mark):\n",
    "    return mark>=90\n",
    "dis=sum(map(distinction,marksdata))\n",
    "\n",
    "#failed=sum([1 for i in marksdata if i<40]) ---This is used to find how many failed \n",
    "#failed                                     --- [] no need to use ,bcaz sum fx. takes data\n",
    "dis\n"
   ]
  },
  {
   "cell_type": "code",
   "execution_count": null,
   "metadata": {},
   "outputs": [],
   "source": []
  }
 ],
 "metadata": {
  "kernelspec": {
   "display_name": "Python 3",
   "language": "python",
   "name": "python3"
  }
 },
 "nbformat": 4,
 "nbformat_minor": 2
}
