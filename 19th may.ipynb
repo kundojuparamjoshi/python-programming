{
 "cells": [
  {
   "cell_type": "code",
   "execution_count": 72,
   "metadata": {},
   "outputs": [
    {
     "data": {
      "text/plain": [
       "[10, 5, 16, 8, 4, 2, 1]"
      ]
     },
     "execution_count": 72,
     "metadata": {},
     "output_type": "execute_result"
    }
   ],
   "source": [
    "\n",
    "def generateSequenceNum(num):\n",
    "    li=[num]\n",
    "    for i in range(1,8):\n",
    "        while num != 1:\n",
    "            if num%2 == 0:\n",
    "                num=num/2\n",
    "                li.append(int(num))\n",
    "            else:\n",
    "                num=num*3 + 1\n",
    "                li.append(int(num))\n",
    "        #num=i\n",
    "    return li \n",
    "\n",
    "\n",
    "generateSequenceNum(10)       \n"
   ]
  },
  {
   "cell_type": "code",
   "execution_count": 73,
   "metadata": {},
   "outputs": [
    {
     "data": {
      "text/plain": [
       "7"
      ]
     },
     "execution_count": 73,
     "metadata": {},
     "output_type": "execute_result"
    }
   ],
   "source": [
    "len(li)"
   ]
  },
  {
   "cell_type": "code",
   "execution_count": 75,
   "metadata": {},
   "outputs": [
    {
     "data": {
      "text/plain": [
       "174"
      ]
     },
     "execution_count": 75,
     "metadata": {},
     "output_type": "execute_result"
    }
   ],
   "source": [
    "def generateSequenceNum(num):\n",
    "    length =1\n",
    "    while num != 1:\n",
    "        if num%2 == 0:\n",
    "            num=num/2\n",
    "                \n",
    "        else:\n",
    "            num=num*3 + 1\n",
    "                \n",
    "        length+=1\n",
    "    return length   \n",
    "\n",
    "def mainsolution(i,j):\n",
    "    return max(map(generateSequenceNum,range(i,j+1)))\n",
    "    \n",
    "mainsolution(900,1000)"
   ]
  },
  {
   "cell_type": "markdown",
   "metadata": {},
   "source": [
    "### (or)"
   ]
  },
  {
   "cell_type": "code",
   "execution_count": 77,
   "metadata": {},
   "outputs": [
    {
     "data": {
      "text/plain": [
       "174"
      ]
     },
     "execution_count": 77,
     "metadata": {},
     "output_type": "execute_result"
    }
   ],
   "source": [
    "def generateSequenceNum(num):\n",
    "    length =1\n",
    "    while num != 1:\n",
    "        if num%2 == 0:\n",
    "            num=num/2\n",
    "                \n",
    "        else:\n",
    "            num=num*3 + 1\n",
    "                \n",
    "        length+=1\n",
    "    return length   \n",
    "\n",
    "def mainsolution(i,j):\n",
    "    lenlist=[generateSequenceNum(k) for k in range(i,j+1)]\n",
    "    return max(lenlist)\n",
    "    \n",
    "mainsolution(900,1000)"
   ]
  },
  {
   "cell_type": "code",
   "execution_count": null,
   "metadata": {},
   "outputs": [],
   "source": []
  }
 ],
 "metadata": {
  "kernelspec": {
   "display_name": "Python 3",
   "language": "python",
   "name": "python3"
  },
  "language_info": {
   "codemirror_mode": {
    "name": "ipython",
    "version": 3
   },
   "file_extension": ".py",
   "mimetype": "text/x-python",
   "name": "python",
   "nbconvert_exporter": "python",
   "pygments_lexer": "ipython3",
   "version": "3.7.3"
  }
 },
 "nbformat": 4,
 "nbformat_minor": 2
}
